{
  "nbformat": 4,
  "nbformat_minor": 0,
  "metadata": {
    "colab": {
      "provenance": []
    },
    "kernelspec": {
      "name": "python3",
      "display_name": "Python 3"
    },
    "language_info": {
      "name": "python"
    }
  },
  "cells": [
    {
      "cell_type": "code",
      "source": [
        "### Using Yelp API to scrape gym data\n",
        "import requests\n",
        "import pandas as pd\n",
        "import os\n",
        "\n",
        "# Replace 'YOUR_API_KEY' with your actual Yelp API key\n",
        "API_KEY = 'V2dOIZaZ2JBTxIbldvuJ0aUS0b6kljpjCNY0iTt0doJXrhJuj5DHvpVoOcENryFNWtVLO90qGnFY_nQmEHEgdW8RJBPns2m4yTUbFRlZKKpGfUhCvJDUCnS64YxUZ3Yx'\n",
        "HEADERS = {'Authorization': f'Bearer {API_KEY}'}\n",
        "url = 'https://api.yelp.com/v3/businesses/search'\n",
        "\n",
        "# Array of zip codes to search in\n",
        "zip_codes = ['10001', '10018']\n",
        "all_businesses = []\n",
        "\n",
        "for zip_code in zip_codes:\n",
        "    params = {\n",
        "        'term': 'Gym',\n",
        "        'location': zip_code,\n",
        "        'limit': 50\n",
        "    }\n",
        "    response = requests.get(url, headers=HEADERS, params=params)\n",
        "\n",
        "    # Check the response\n",
        "    if response.status_code != 200:\n",
        "        print(f\"Error for ZIP code {zip_code}: {response.json()}\")\n",
        "        continue  # Skip to the next ZIP code if there’s an error\n",
        "\n",
        "    data = response.json()\n",
        "    businesses = data.get('businesses', [])\n",
        "    all_businesses.extend(businesses)\n",
        "\n",
        "# Flatten the data\n",
        "flattened_businesses = [\n",
        "    {\n",
        "        'name': business.get('name'),\n",
        "        'rating': business.get('rating'),\n",
        "        'review_count': business.get('review_count'),\n",
        "        'address': \" \".join(business['location']['display_address']) if 'location' in business else None,\n",
        "        'phone': business.get('display_phone'),\n",
        "        'zip_code': business['location'].get('zip_code') if 'location' in business else None,\n",
        "        'coordinates': business.get('coordinates')\n",
        "    }\n",
        "    for business in all_businesses\n",
        "]\n",
        "\n",
        "# Create a DataFrame\n",
        "all_businesses_df = pd.DataFrame(flattened_businesses)\n",
        "\n",
        "# Append the DataFrame to the CSV file\n",
        "file_name = 'Data_Gym.csv'\n",
        "if os.path.exists(file_name):\n",
        "    all_businesses_df.to_csv(file_name, mode='a', index=False, header=False)\n",
        "else:\n",
        "    all_businesses_df.to_csv(file_name, mode='w', index=False, header=True)\n",
        "\n",
        "print(\"Data has been appended to Data_Gym.csv\")\n"
      ],
      "metadata": {
        "colab": {
          "base_uri": "https://localhost:8080/"
        },
        "id": "IwcXeAF3Xhvn",
        "outputId": "9955b05c-a24a-4105-cb68-dd7e686bdcf1"
      },
      "execution_count": 2,
      "outputs": [
        {
          "output_type": "stream",
          "name": "stdout",
          "text": [
            "Data has been appended to Data_Gym.csv\n"
          ]
        }
      ]
    },
    {
      "cell_type": "code",
      "source": [
        "### Using Yelp API to scrape restaurant data\n",
        "import requests\n",
        "import pandas as pd\n",
        "\n",
        "# Replace 'YOUR_API_KEY' with your actual Yelp API key\n",
        "API_KEY = '-tOaCWpa3zA6N-y10fckM4PyQz_1hkjZtNFCMsx5z5EkIbzrWMSud3XZW2Ar7AA1DquZoavFHijyfcYs7Hy53QDwEVqHSWDjk2AIA8oQ9HMMtPLNRygKZJmgX35OZ3Yx'\n",
        "HEADERS = {'Authorization': f'Bearer {API_KEY}'}\n",
        "url = 'https://api.yelp.com/v3/businesses/search'\n",
        "\n",
        "# Array of zip codes to search in\n",
        "zip_codes = ['47408']\n",
        "# Add or modify zip codes as needed\n",
        "all_businesses = []\n",
        "\n",
        "for zip_code in zip_codes:\n",
        "    params = {\n",
        "        'term': 'restaurants',\n",
        "        'location': zip_code,\n",
        "        'categories': 'Vegan',\n",
        "        'limit': 50\n",
        "    }\n",
        "    response = requests.get(url, headers=HEADERS, params=params)\n",
        "    data = response.json()\n",
        "    businesses = data.get('businesses', [])\n",
        "    all_businesses.extend(businesses)\n",
        "\n",
        "# Create a DataFrame from the combined business data\n",
        "all_businesses_df = pd.DataFrame(all_businesses)\n",
        "\n",
        "# Append the DataFrame to 'Data_Final.csv'\n",
        "all_businesses_df.to_csv('Bloom.csv', mode='a', index=False, header=True)\n",
        "\n",
        "print(\"Data has been appended to Data_Final.csv\")"
      ],
      "metadata": {
        "colab": {
          "base_uri": "https://localhost:8080/"
        },
        "id": "VQGfJR59d2RZ",
        "outputId": "d2237350-b7d0-4e56-cd90-6f83dd386a78"
      },
      "execution_count": 4,
      "outputs": [
        {
          "output_type": "stream",
          "name": "stdout",
          "text": [
            "Data has been appended to Data_Final.csv\n"
          ]
        }
      ]
    }
  ]
}